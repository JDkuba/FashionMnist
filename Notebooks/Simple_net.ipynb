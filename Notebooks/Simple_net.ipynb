{
  "nbformat": 4,
  "nbformat_minor": 0,
  "metadata": {
    "colab": {
      "name": "Simple_net.ipynb",
      "provenance": [],
      "collapsed_sections": []
    },
    "kernelspec": {
      "name": "python3",
      "display_name": "Python 3"
    },
    "accelerator": "GPU"
  },
  "cells": [
    {
      "cell_type": "code",
      "metadata": {
        "id": "zk322pKwuht9",
        "colab_type": "code",
        "colab": {
          "base_uri": "https://localhost:8080/",
          "height": 69
        },
        "outputId": "e517815d-22cb-4500-9c1d-7dcb1b490ee9"
      },
      "source": [
        "#Import drive\n",
        "from google.colab import drive\n",
        "#Mount Google Drive\n",
        "drive.mount(\"/content/drive\")\n",
        "\n",
        "\n",
        "%cd './drive/My Drive/Projekt/FashionMnist'"
      ],
      "execution_count": 51,
      "outputs": [
        {
          "output_type": "stream",
          "text": [
            "Drive already mounted at /content/drive; to attempt to forcibly remount, call drive.mount(\"/content/drive\", force_remount=True).\n",
            "[Errno 2] No such file or directory: './drive/My Drive/Projekt/FashionMnist'\n",
            "/content/drive/My Drive/Projekt/FashionMnist\n"
          ],
          "name": "stdout"
        }
      ]
    },
    {
      "cell_type": "markdown",
      "metadata": {
        "id": "49e12EU8pwS9",
        "colab_type": "text"
      },
      "source": [
        "Probowałem odtworzyć drugi z modeli z tabelki w repo FashionMnist (ten z Tensorflow doc).\n",
        "\n",
        "Architektura sieci wygląda tak samo jak tam. Nie jestem pewien co do optymalizatora, ale są na pewno bardzo podobne."
      ]
    },
    {
      "cell_type": "code",
      "metadata": {
        "id": "m4ncD_nkaccN",
        "colab_type": "code",
        "colab": {
          "base_uri": "https://localhost:8080/",
          "height": 34
        },
        "outputId": "f5425105-3077-4f8a-a60a-7fcae999fa4c"
      },
      "source": [
        "#Importy i sprawdzenie czy mamy CUDA\n",
        "import torch\n",
        "import torchvision\n",
        "\n",
        "if torch.cuda.is_available():  \n",
        "  dev = \"cuda:0\" \n",
        "else:  \n",
        "  dev = \"cpu\"  \n",
        "dev"
      ],
      "execution_count": 52,
      "outputs": [
        {
          "output_type": "execute_result",
          "data": {
            "text/plain": [
              "'cuda:0'"
            ]
          },
          "metadata": {
            "tags": []
          },
          "execution_count": 52
        }
      ]
    },
    {
      "cell_type": "code",
      "metadata": {
        "id": "sZGqM6bqyzXB",
        "colab_type": "code",
        "colab": {}
      },
      "source": [
        "import torchvision.datasets as dsets\n",
        "import torchvision.transforms as transforms\n",
        "\n",
        "#katalog, w którym przechowujemy dane\n",
        "root = \"data\"\n",
        "batch_size = 200\n",
        "\n",
        "#transformacje wektorów wejściowych\n",
        "transform = transforms.Compose([transforms.ToTensor(),\n",
        "                                transforms.Normalize((0.5, ), (0.5, ))])\n",
        "\n",
        "train_dataset = dsets.FashionMNIST(root=root,\n",
        "                            train=True,\n",
        "                            transform=transform,\n",
        "                            download=True)\n",
        "\n",
        "test_dataset = dsets.FashionMNIST(root=root,\n",
        "                            train=False,\n",
        "                            transform=transform)\n",
        "\n",
        "trainloader = torch.utils.data.DataLoader(dataset=train_dataset,\n",
        "                                                batch_size=batch_size,\n",
        "                                                shuffle=True)\n",
        "\n",
        "testloader = torch.utils.data.DataLoader(dataset=test_dataset,\n",
        "                                                batch_size=batch_size,\n",
        "                                                shuffle=True) "
      ],
      "execution_count": 53,
      "outputs": []
    },
    {
      "cell_type": "code",
      "metadata": {
        "id": "e2LwPscVvL2K",
        "colab_type": "code",
        "colab": {
          "base_uri": "https://localhost:8080/",
          "height": 138
        },
        "outputId": "5ac4a56a-1e67-48f9-c434-d0c6161a20f8"
      },
      "source": [
        "import matplotlib.pyplot as plt\n",
        "import numpy as np\n",
        "\n",
        "# functions to show an image\n",
        "\n",
        "\n",
        "def imshow(img):\n",
        "    img = img / 2 + 0.5     # unnormalize\n",
        "    npimg = img.numpy()\n",
        "    plt.imshow(np.transpose(npimg, (1, 2, 0)))\n",
        "    plt.show()\n",
        "\n",
        "\n",
        "# get some random training images\n",
        "dataiter = iter(trainloader)\n",
        "images, labels = dataiter.next()\n",
        "\n",
        "# show images\n",
        "imshow(torchvision.utils.make_grid(images[:4]))"
      ],
      "execution_count": 54,
      "outputs": [
        {
          "output_type": "display_data",
          "data": {
            "image/png": "[encoded data removed]",
            "text/plain": [
              "<Figure size 432x288 with 1 Axes>"
            ]
          },
          "metadata": {
            "tags": [],
            "needs_background": "light"
          }
        }
      ]
    },
    {
      "cell_type": "code",
      "metadata": {
        "id": "cDI8XvGcwQqr",
        "colab_type": "code",
        "colab": {}
      },
      "source": [
        "import torch.nn as nn\n",
        "import torch.nn.functional as F\n",
        "\n",
        "\n",
        "#architektura sieci\n",
        "class Net(nn.Module):\n",
        "    def __init__(self):\n",
        "        super(Net, self).__init__()\n",
        "        self.conv1 = nn.Conv2d(1, 32, 5, padding=2)\n",
        "        self.pool = nn.MaxPool2d(2, 2)\n",
        "        self.conv2 = nn.Conv2d(32, 64, 5, padding=2)\n",
        "        self.fc1 = nn.Linear(7 * 7 * 64, 1024)\n",
        "        self.fc2 = nn.Linear(1024, 130)\n",
        "        self.drop = nn.Dropout(0.4) #prawdopodobieństwo 0.6 że element zostaje\n",
        "\n",
        "    def forward(self, x):\n",
        "        x = self.pool(F.relu(self.conv1(x)))\n",
        "        x = self.pool(F.relu(self.conv2(x)))\n",
        "        x = x.view(-1, 7 * 7 * 64)\n",
        "        x = self.drop(F.relu(self.fc1(x)))\n",
        "        x = self.fc2(x)\n",
        "        return x\n",
        "\n",
        "\n",
        "net = Net()\n"
      ],
      "execution_count": 55,
      "outputs": []
    },
    {
      "cell_type": "code",
      "metadata": {
        "id": "V-adC0ckaw7w",
        "colab_type": "code",
        "colab": {}
      },
      "source": [
        "#jeżeli można, używamy CUDA\n",
        "if torch.cuda.is_available():\n",
        "  net.to(\"cuda:0\")"
      ],
      "execution_count": 56,
      "outputs": []
    },
    {
      "cell_type": "code",
      "metadata": {
        "id": "qYRCoWmhytkn",
        "colab_type": "code",
        "colab": {}
      },
      "source": [
        "import torch.optim as optim\n",
        "from torch.optim.lr_scheduler import ReduceLROnPlateau\n",
        "\n",
        "criterion = nn.CrossEntropyLoss()\n",
        "optimizer = optim.SGD(net.parameters(), lr=0.01, momentum=0.9)\n",
        "scheduler = ReduceLROnPlateau(optimizer, mode='max', factor=0.1,\n",
        "                              patience=0, verbose=True)"
      ],
      "execution_count": 57,
      "outputs": []
    },
    {
      "cell_type": "code",
      "metadata": {
        "id": "9ghJoIYmhKD1",
        "colab_type": "code",
        "colab": {}
      },
      "source": [
        "def accuracy(model, dataloader):\n",
        "  correct = 0\n",
        "  total = 0\n",
        "  with torch.no_grad():\n",
        "      for data in dataloader:\n",
        "          images, labels = data\n",
        "          if torch.cuda.is_available():\n",
        "            images = images.to(\"cuda:0\")\n",
        "            labels = labels.to(\"cuda:0\")\n",
        "\n",
        "          outputs = model(images)\n",
        "          _, predicted = torch.max(outputs.data, 1)\n",
        "          total += labels.size(0)\n",
        "          correct += (predicted == labels).sum().item()\n",
        "  return 100 * correct / total"
      ],
      "execution_count": 58,
      "outputs": []
    },
    {
      "cell_type": "code",
      "metadata": {
        "id": "MUJLlrsg2Up2",
        "colab_type": "code",
        "colab": {
          "base_uri": "https://localhost:8080/",
          "height": 573
        },
        "outputId": "9efd2601-4077-4d08-e9b7-4a2595b75030"
      },
      "source": [
        "for epoch in range(25):  # loop over the dataset multiple times\n",
        "\n",
        "    running_loss = 0.0\n",
        "    for i, data in enumerate(trainloader, 0):\n",
        "        # get the inputs; data is a list of [inputs, labels]\n",
        "        inputs, labels = data\n",
        "        if torch.cuda.is_available():\n",
        "          inputs = inputs.to(\"cuda:0\")\n",
        "          labels = labels.to(\"cuda:0\")\n",
        "\n",
        "\n",
        "        # zero the parameter gradients\n",
        "        optimizer.zero_grad()\n",
        "\n",
        "        # forward + backward + optimize\n",
        "        outputs = net(inputs)\n",
        "        loss = criterion(outputs, labels)\n",
        "        loss.backward()\n",
        "        optimizer.step()\n",
        "\n",
        "        # print statistics\n",
        "        running_loss += loss.item()\n",
        "    epoch_accuracy = accuracy(net, trainloader)\n",
        "    print('%d loss: %.3f train accuracy: %.2f %%' %\n",
        "          (epoch + 1, \n",
        "            running_loss / 200, \n",
        "            epoch_accuracy))\n",
        "    running_loss = 0.0\n",
        "    scheduler.step(epoch_accuracy)\n",
        "\n",
        "print('Finished Training')\n"
      ],
      "execution_count": 59,
      "outputs": [
        {
          "output_type": "stream",
          "text": [
            "1 loss: 1.479 train accuracy: 83.48 %\n",
            "2 loss: 0.631 train accuracy: 86.62 %\n",
            "3 loss: 0.534 train accuracy: 87.76 %\n",
            "4 loss: 0.479 train accuracy: 89.23 %\n",
            "5 loss: 0.437 train accuracy: 90.10 %\n",
            "6 loss: 0.405 train accuracy: 90.40 %\n",
            "7 loss: 0.381 train accuracy: 91.25 %\n",
            "8 loss: 0.363 train accuracy: 91.63 %\n",
            "9 loss: 0.343 train accuracy: 92.40 %\n",
            "10 loss: 0.327 train accuracy: 92.76 %\n",
            "11 loss: 0.314 train accuracy: 92.73 %\n",
            "Epoch    11: reducing learning rate of group 0 to 1.0000e-03.\n",
            "12 loss: 0.275 train accuracy: 93.53 %\n",
            "13 loss: 0.264 train accuracy: 93.75 %\n",
            "14 loss: 0.260 train accuracy: 93.78 %\n",
            "15 loss: 0.259 train accuracy: 93.88 %\n",
            "16 loss: 0.256 train accuracy: 93.98 %\n",
            "17 loss: 0.253 train accuracy: 94.04 %\n",
            "18 loss: 0.251 train accuracy: 94.14 %\n",
            "19 loss: 0.250 train accuracy: 94.10 %\n",
            "Epoch    19: reducing learning rate of group 0 to 1.0000e-04.\n",
            "20 loss: 0.244 train accuracy: 94.23 %\n",
            "21 loss: 0.243 train accuracy: 94.11 %\n",
            "Epoch    21: reducing learning rate of group 0 to 1.0000e-05.\n",
            "22 loss: 0.241 train accuracy: 94.20 %\n",
            "Epoch    22: reducing learning rate of group 0 to 1.0000e-06.\n",
            "23 loss: 0.242 train accuracy: 94.23 %\n",
            "Epoch    23: reducing learning rate of group 0 to 1.0000e-07.\n",
            "24 loss: 0.242 train accuracy: 94.23 %\n",
            "Epoch    24: reducing learning rate of group 0 to 1.0000e-08.\n",
            "25 loss: 0.241 train accuracy: 94.21 %\n",
            "Finished Training\n"
          ],
          "name": "stdout"
        }
      ]
    },
    {
      "cell_type": "code",
      "metadata": {
        "id": "4peXTfoW2W_C",
        "colab_type": "code",
        "colab": {
          "base_uri": "https://localhost:8080/",
          "height": 34
        },
        "outputId": "b9965094-ce07-43d6-9cb5-efd54df9cfd6"
      },
      "source": [
        "print('Accuracy of the network on test images: %.2f %%' % (\n",
        "    accuracy(net, testloader)))"
      ],
      "execution_count": 60,
      "outputs": [
        {
          "output_type": "stream",
          "text": [
            "Accuracy of the network on test images: 91.45 %\n"
          ],
          "name": "stdout"
        }
      ]
    },
    {
      "cell_type": "code",
      "metadata": {
        "id": "xxy2DsBy9tXu",
        "colab_type": "code",
        "colab": {}
      },
      "source": [
        ""
      ],
      "execution_count": 60,
      "outputs": []
    }
  ]
}